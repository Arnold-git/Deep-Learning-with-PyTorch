{
 "cells": [
  {
   "cell_type": "code",
   "execution_count": 9,
   "metadata": {},
   "outputs": [],
   "source": [
    "import numpy as np\n",
    "import matplotlib.pyplot as plt"
   ]
  },
  {
   "cell_type": "code",
   "execution_count": 27,
   "metadata": {},
   "outputs": [],
   "source": [
    "x_train = np.array ([[3.3], [4.4], [5.5], [6.71], [6.93], [4.168], \n",
    "                    [9.779], [6.182], [7.59], [2.167], [7.042] , \n",
    "                    [10.791], [5.313], [7.997], [3.1]],\n",
    "                    dtype = np.float32)\n",
    "\n",
    "y_train = np.array ([[1.7], [2.76], [2.09], [3.19], [1.694], [1.573], \n",
    "                    [3.366], [2.596], [2.53], [1.221], [2.827] , \n",
    "                    [3.465], [1.65], [2.904], [1.3]], \n",
    "                    dtype = np.float32)"
   ]
  },
  {
   "cell_type": "code",
   "execution_count": 28,
   "metadata": {},
   "outputs": [
    {
     "data": {
      "image/png": "[encoded data removed]",
      "text/plain": [
       "<Figure size 432x288 with 1 Axes>"
      ]
     },
     "metadata": {
      "needs_background": "light"
     },
     "output_type": "display_data"
    }
   ],
   "source": [
    "plt.plot(x_train, y_train, 'ro', label = 'original data')\n",
    "plt.show()"
   ]
  },
  {
   "cell_type": "code",
   "execution_count": 12,
   "metadata": {},
   "outputs": [],
   "source": [
    "import torch"
   ]
  },
  {
   "cell_type": "code",
   "execution_count": 30,
   "metadata": {},
   "outputs": [
    {
     "name": "stdout",
     "output_type": "stream",
     "text": [
      "required_grad for x_train: False\n",
      "required_grad for y_train: False\n"
     ]
    }
   ],
   "source": [
    "X_train = torch.from_numpy(x_train)\n",
    "Y_train = torch.from_numpy(y_train)\n",
    "\n",
    "print('required_grad for x_train:', X_train.requires_grad)\n",
    "print('required_grad for y_train:', Y_train.requires_grad)"
   ]
  },
  {
   "cell_type": "code",
   "execution_count": 31,
   "metadata": {},
   "outputs": [],
   "source": [
    "input_size = 1\n",
    "hidden_size = 100\n",
    "output_size = 1\n",
    "learning_rate = 1e-6"
   ]
  },
  {
   "cell_type": "code",
   "execution_count": 32,
   "metadata": {},
   "outputs": [
    {
     "data": {
      "text/plain": [
       "1e-06"
      ]
     },
     "execution_count": 32,
     "metadata": {},
     "output_type": "execute_result"
    }
   ],
   "source": [
    "learning_rate"
   ]
  },
  {
   "cell_type": "code",
   "execution_count": 33,
   "metadata": {},
   "outputs": [],
   "source": [
    "w1 = torch.rand(input_size, hidden_size, requires_grad = True)"
   ]
  },
  {
   "cell_type": "code",
   "execution_count": 34,
   "metadata": {},
   "outputs": [
    {
     "data": {
      "text/plain": [
       "torch.Size([1, 100])"
      ]
     },
     "execution_count": 34,
     "metadata": {},
     "output_type": "execute_result"
    }
   ],
   "source": [
    "w1.shape"
   ]
  },
  {
   "cell_type": "code",
   "execution_count": 35,
   "metadata": {},
   "outputs": [
    {
     "data": {
      "text/plain": [
       "torch.Size([100, 1])"
      ]
     },
     "execution_count": 35,
     "metadata": {},
     "output_type": "execute_result"
    }
   ],
   "source": [
    "w2 = torch.rand(hidden_size, output_size, requires_grad = True)\n",
    "w2.shape"
   ]
  },
  {
   "cell_type": "code",
   "execution_count": 37,
   "metadata": {},
   "outputs": [
    {
     "name": "stdout",
     "output_type": "stream",
     "text": [
      "50 2348.314208984375\n",
      "100 43.93317794799805\n",
      "150 4.349189758300781\n",
      "200 3.6453731060028076\n",
      "250 3.632854461669922\n",
      "300 3.632632255554199\n"
     ]
    }
   ],
   "source": [
    "for iter in range(1, 301):\n",
    "    y_pred = X_train.mm(w1).clamp(min = 0).mm(w2)\n",
    "    loss = (y_pred - Y_train).pow(2).sum()\n",
    "    \n",
    "    if iter % 50 == 0:\n",
    "        print(iter, loss.item())\n",
    "        \n",
    "    loss.backward()\n",
    "    \n",
    "    with torch.no_grad():\n",
    "        w1 -= learning_rate*w1.grad\n",
    "        w2 -= learning_rate * w2.grad\n",
    "        w1.grad.zero_()\n",
    "        w2.grad.zero_()"
   ]
  },
  {
   "cell_type": "code",
   "execution_count": 39,
   "metadata": {},
   "outputs": [
    {
     "name": "stdout",
     "output_type": "stream",
     "text": [
      "w1:  tensor([[ 7.2685e-01, -1.8159e-04,  8.5507e-01,  6.3011e-01,  1.8481e-01,\n",
      "         -1.2978e-02,  8.3343e-02,  2.7004e-01,  3.1360e-01,  3.2522e-01,\n",
      "          3.5063e-01, -7.8293e-04,  3.7326e-01,  7.3420e-01, -1.0293e-02,\n",
      "          7.0621e-01,  1.3094e-01,  7.5538e-01,  4.5974e-02,  3.3744e-01,\n",
      "          1.6143e-01,  5.3991e-01,  1.4485e-01, -3.9105e-03,  4.5609e-01,\n",
      "          5.5010e-01,  4.6555e-01, -1.4017e-02, -4.0290e-03,  8.8364e-01,\n",
      "          8.5287e-02,  5.1784e-01,  6.9910e-01,  3.9850e-01,  4.8981e-01,\n",
      "          6.5231e-01,  3.5411e-01,  1.0054e+00,  3.1422e-01,  1.0010e+00,\n",
      "         -1.1988e-02, -5.8373e-06,  8.1265e-01, -3.9911e-03, -3.7558e-03,\n",
      "         -4.1863e-03, -6.7342e-03,  1.1599e-01,  9.6936e-02,  5.1519e-02,\n",
      "          5.6743e-01,  2.1775e-01,  1.0022e-01,  1.0531e-01,  9.6063e-01,\n",
      "         -3.4037e-03,  8.9826e-01,  7.5760e-02,  5.3117e-01,  2.2239e-01,\n",
      "          2.9257e-01,  2.8536e-01,  1.1129e+00, -3.1045e-03,  8.5568e-01,\n",
      "         -4.0155e-03,  4.2845e-01,  6.1162e-01,  1.1985e-01,  6.7970e-01,\n",
      "          1.7278e-01,  7.5546e-01,  2.7113e-01,  4.7175e-01,  9.6302e-01,\n",
      "          3.3009e-01,  2.5339e-01,  6.0601e-01,  4.7212e-01,  1.4729e-01,\n",
      "          8.8593e-02, -4.5003e-03, -5.8980e-04, -3.5986e-05,  5.4348e-01,\n",
      "         -1.2609e-03,  4.4140e-01, -5.8511e-04,  1.2175e-01, -5.8154e-04,\n",
      "          6.9704e-01,  4.8692e-01,  8.2744e-01, -4.7888e-03,  4.4694e-01,\n",
      "         -5.8233e-03,  4.2518e-01, -1.2683e-02, -4.2133e-03,  6.6015e-01]],\n",
      "       requires_grad=True)\n",
      "w2:  tensor([[ 0.1717],\n",
      "        [ 0.6054],\n",
      "        [-0.0759],\n",
      "        [ 0.4321],\n",
      "        [ 0.0697],\n",
      "        [ 0.8123],\n",
      "        [ 0.0762],\n",
      "        [ 0.7044],\n",
      "        [ 0.6068],\n",
      "        [-0.0986],\n",
      "        [ 0.1529],\n",
      "        [ 0.5693],\n",
      "        [ 0.3055],\n",
      "        [-0.2649],\n",
      "        [ 0.4418],\n",
      "        [ 0.2932],\n",
      "        [ 0.7642],\n",
      "        [-0.2895],\n",
      "        [ 0.0547],\n",
      "        [ 0.0897],\n",
      "        [ 0.2051],\n",
      "        [ 0.2823],\n",
      "        [ 0.7044],\n",
      "        [ 0.6605],\n",
      "        [ 0.3637],\n",
      "        [ 0.5348],\n",
      "        [ 0.5317],\n",
      "        [ 0.9390],\n",
      "        [ 0.8031],\n",
      "        [-0.1201],\n",
      "        [ 0.0448],\n",
      "        [ 0.1206],\n",
      "        [ 0.0322],\n",
      "        [-0.0968],\n",
      "        [ 0.2071],\n",
      "        [ 0.2962],\n",
      "        [-0.1302],\n",
      "        [-0.2973],\n",
      "        [-0.0176],\n",
      "        [-0.4020],\n",
      "        [ 0.7417],\n",
      "        [ 0.1914],\n",
      "        [-0.2453],\n",
      "        [ 0.7603],\n",
      "        [ 0.4353],\n",
      "        [ 0.6071],\n",
      "        [ 0.4322],\n",
      "        [ 0.1546],\n",
      "        [ 0.5563],\n",
      "        [ 0.6917],\n",
      "        [-0.2545],\n",
      "        [ 0.3337],\n",
      "        [ 0.5284],\n",
      "        [ 0.7887],\n",
      "        [-0.4635],\n",
      "        [ 0.5493],\n",
      "        [-0.1621],\n",
      "        [ 0.4634],\n",
      "        [ 0.0872],\n",
      "        [ 0.2258],\n",
      "        [ 0.2200],\n",
      "        [ 0.7097],\n",
      "        [-0.5408],\n",
      "        [ 0.3277],\n",
      "        [-0.4074],\n",
      "        [ 0.8559],\n",
      "        [ 0.4938],\n",
      "        [-0.2158],\n",
      "        [ 0.4159],\n",
      "        [ 0.2657],\n",
      "        [ 0.0302],\n",
      "        [ 0.0587],\n",
      "        [ 0.3586],\n",
      "        [ 0.2700],\n",
      "        [-0.4695],\n",
      "        [ 0.0867],\n",
      "        [ 0.5500],\n",
      "        [-0.0776],\n",
      "        [-0.0461],\n",
      "        [ 0.4401],\n",
      "        [ 0.1138],\n",
      "        [ 0.4433],\n",
      "        [ 0.4737],\n",
      "        [ 0.6737],\n",
      "        [ 0.5528],\n",
      "        [ 0.7488],\n",
      "        [ 0.0231],\n",
      "        [ 0.3576],\n",
      "        [ 0.1202],\n",
      "        [ 0.9198],\n",
      "        [-0.3065],\n",
      "        [ 0.0837],\n",
      "        [-0.3735],\n",
      "        [ 0.7426],\n",
      "        [ 0.1874],\n",
      "        [ 0.9541],\n",
      "        [ 0.5600],\n",
      "        [ 0.4808],\n",
      "        [ 0.6765],\n",
      "        [-0.3166]], requires_grad=True)\n"
     ]
    }
   ],
   "source": [
    "print ('w1: ', w1)\n",
    "print ('w2: ', w2)"
   ]
  },
  {
   "cell_type": "code",
   "execution_count": 40,
   "metadata": {},
   "outputs": [
    {
     "data": {
      "text/plain": [
       "tensor([[ 3.3000],\n",
       "        [ 4.4000],\n",
       "        [ 5.5000],\n",
       "        [ 6.7100],\n",
       "        [ 6.9300],\n",
       "        [ 4.1680],\n",
       "        [ 9.7790],\n",
       "        [ 6.1820],\n",
       "        [ 7.5900],\n",
       "        [ 2.1670],\n",
       "        [ 7.0420],\n",
       "        [10.7910],\n",
       "        [ 5.3130],\n",
       "        [ 7.9970],\n",
       "        [ 3.1000]])"
      ]
     },
     "execution_count": 40,
     "metadata": {},
     "output_type": "execute_result"
    }
   ],
   "source": [
    "x_train_tensor = torch.from_numpy(x_train)\n",
    "x_train_tensor"
   ]
  },
  {
   "cell_type": "code",
   "execution_count": 41,
   "metadata": {},
   "outputs": [
    {
     "data": {
      "text/plain": [
       "tensor([[1.2117],\n",
       "        [1.6156],\n",
       "        [2.0196],\n",
       "        [2.4639],\n",
       "        [2.5446],\n",
       "        [1.5305],\n",
       "        [3.5908],\n",
       "        [2.2700],\n",
       "        [2.7870],\n",
       "        [0.7957],\n",
       "        [2.5858],\n",
       "        [3.9624],\n",
       "        [1.9509],\n",
       "        [2.9364],\n",
       "        [1.1383]], grad_fn=<MmBackward>)"
      ]
     },
     "execution_count": 41,
     "metadata": {},
     "output_type": "execute_result"
    }
   ],
   "source": [
    "predicted_in_tensor = x_train_tensor.mm(w1).clamp(min = 0).mm(w2)\n",
    "predicted_in_tensor"
   ]
  },
  {
   "cell_type": "code",
   "execution_count": 42,
   "metadata": {},
   "outputs": [
    {
     "data": {
      "text/plain": [
       "array([[1.2117367],\n",
       "       [1.615649 ],\n",
       "       [2.0195618],\n",
       "       [2.4638648],\n",
       "       [2.5446472],\n",
       "       [1.5304596],\n",
       "       [3.5907807],\n",
       "       [2.2699869],\n",
       "       [2.7869945],\n",
       "       [0.7957071],\n",
       "       [2.585771 ],\n",
       "       [3.9623785],\n",
       "       [1.9508954],\n",
       "       [2.9364433],\n",
       "       [1.138298 ]], dtype=float32)"
      ]
     },
     "execution_count": 42,
     "metadata": {},
     "output_type": "execute_result"
    }
   ],
   "source": [
    "#converting the prediction to a numpy array\n",
    "\n",
    "predicted = predicted_in_tensor.detach().numpy()\n",
    "predicted"
   ]
  },
  {
   "cell_type": "code",
   "execution_count": 44,
   "metadata": {},
   "outputs": [
    {
     "data": {
      "image/png": "[encoded data removed]",
      "text/plain": [
       "<Figure size 432x288 with 1 Axes>"
      ]
     },
     "metadata": {
      "needs_background": "light"
     },
     "output_type": "display_data"
    }
   ],
   "source": [
    "plt.plot(x_train, y_train, 'ro', label = 'original data')\n",
    "\n",
    "plt.plot(x_train, predicted, 'b', label = 'fitted line')\n",
    "\n",
    "plt.legend()\n",
    "\n",
    "plt.show()"
   ]
  },
  {
   "cell_type": "code",
   "execution_count": null,
   "metadata": {},
   "outputs": [],
   "source": []
  }
 ],
 "metadata": {
  "kernelspec": {
   "display_name": "Python 3",
   "language": "python",
   "name": "python3"
  },
  "language_info": {
   "codemirror_mode": {
    "name": "ipython",
    "version": 3
   },
   "file_extension": ".py",
   "mimetype": "text/x-python",
   "name": "python",
   "nbconvert_exporter": "python",
   "pygments_lexer": "ipython3",
   "version": "3.7.3"
  }
 },
 "nbformat": 4,
 "nbformat_minor": 2
}
